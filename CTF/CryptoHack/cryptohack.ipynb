{
 "cells": [
  {
   "cell_type": "code",
   "execution_count": null,
   "metadata": {
    "vscode": {
     "languageId": "python"
    }
   },
   "outputs": [],
   "source": [
    "# Solve this Roman emperor's cipher: IZPOMVG NRZZO NKZVF AZWMPVMT\n",
    "\n",
    "def caesar_decrypt(cipher, shift):\n",
    "    res = []\n",
    "    for char in cipher:\n",
    "        if char.isalpha():\n",
    "            offset = ord('A')\n",
    "            plain = chr(((ord(char) - offset - shift) % 26) + offset)\n",
    "            res.append(plain)\n",
    "        else:\n",
    "            res.append(char)\n",
    "    return ''.join(res)\n",
    "\n",
    "def solve(cipher):\n",
    "    for shift in range(26):\n",
    "        plaintext = caesar_decrypt(cipher, shift)\n",
    "        print(f'Shift {shift}: {plaintext}')\n",
    "\n",
    "cipher = 'IZPOMVG NRZZO NKZVF AZWMPVMT'\n",
    "solve(cipher) \n",
    "\n",
    "# Shift 21: NEUTRAL SWEET SPEAK FEBRUARY\n"
   ]
  },
  {
   "cell_type": "code",
   "execution_count": null,
   "metadata": {
    "vscode": {
     "languageId": "python"
    }
   },
   "outputs": [],
   "source": [
    "#!/usr/bin/env python3\n",
    "\n",
    "import sys\n",
    "# import this\n",
    "\n",
    "if sys.version_info.major == 2:\n",
    "    print(\"You are running Python 2, which is no longer supported. Please update to Python 3.\")\n",
    "\n",
    "ords = [81, 64, 75, 66, 70, 93, 73, 72, 1, 92, 109, 2, 84, 109, 66, 75, 70, 90, 2, 92, 79]\n",
    "\n",
    "print(\"Here is your flag:\")\n",
    "print(\"\".join(chr(o ^ 0x32) for o in ords))\n"
   ]
  },
  {
   "cell_type": "code",
   "execution_count": null,
   "metadata": {
    "vscode": {
     "languageId": "python"
    }
   },
   "outputs": [],
   "source": [
    "ords = [99, 114, 121, 112, 116, 111, 123, 65, 83, 67, 73, 73, 95, 112, 114, 49, 110, 116, 52, 98, 108, 51, 125]\n",
    "flag = ''.join(chr(o) for o in ords)\n",
    "print(flag)"
   ]
  },
  {
   "cell_type": "code",
   "execution_count": null,
   "metadata": {
    "vscode": {
     "languageId": "python"
    }
   },
   "outputs": [],
   "source": [
    "hex_string = '63727970746f7b596f755f77696c6c5f62655f776f726b696e675f776974685f6865785f737472696e67735f615f6c6f747d'\n",
    "flag = bytes.fromhex(hex_string).decode()\n",
    "print(flag)"
   ]
  },
  {
   "cell_type": "code",
   "execution_count": null,
   "metadata": {
    "vscode": {
     "languageId": "python"
    }
   },
   "outputs": [],
   "source": [
    "import base64\n",
    "hex_string = '72bca9b68fc16ac7beeb8f849dca1d8a783e8acf9679bf9269f7bf'\n",
    "string = bytes.fromhex(hex_string)\n",
    "flag = base64.b64encode(string).decode()\n",
    "print(flag)\n"
   ]
  },
  {
   "cell_type": "code",
   "execution_count": null,
   "metadata": {
    "vscode": {
     "languageId": "python"
    }
   },
   "outputs": [],
   "source": [
    "from Crypto.Util.number import *\n",
    "\n",
    "integer = 11515195063862318899931685488813747395775516287289682636499965282714637259206269\n",
    "flag = long_to_bytes(integer).decode()\n",
    "print(flag)"
   ]
  },
  {
   "cell_type": "code",
   "execution_count": null,
   "metadata": {
    "vscode": {
     "languageId": "python"
    }
   },
   "outputs": [],
   "source": [
    "from pwn import *\n",
    "\n",
    "string = xor('label', int(13)).decode()\n",
    "\n",
    "print(f\"crypto{{{string}}}\")"
   ]
  },
  {
   "cell_type": "code",
   "execution_count": null,
   "metadata": {
    "vscode": {
     "languageId": "python"
    }
   },
   "outputs": [],
   "source": [
    "c1 = bytes.fromhex('a6c8b6733c9b22de7bc0253266a3867df55acde8635e19c73313')\n",
    "c3 = bytes.fromhex('c1545756687e7573db23aa1c3452a098b71a7fbf0fddddde5fc1')\n",
    "c4 = bytes.fromhex('04ee9855208a2cd59091d04767ae47963170d1660df7f56f5faf')\n",
    "flag = xor(c4, xor(c1, c3)).decode()\n",
    "print(flag)"
   ]
  },
  {
   "cell_type": "code",
   "execution_count": null,
   "metadata": {
    "vscode": {
     "languageId": "python"
    }
   },
   "outputs": [],
   "source": [
    "cipher = bytes.fromhex('73626960647f6b206821204f21254f7d694f7624662065622127234f726927756d')\n",
    "for i in range(128):\n",
    "    print(xor(cipher, i).decode())"
   ]
  },
  {
   "cell_type": "code",
   "execution_count": null,
   "metadata": {
    "vscode": {
     "languageId": "python"
    }
   },
   "outputs": [],
   "source": [
    "flag_prefix = 'crypto{'\n",
    "cipher = bytes.fromhex('0e0b213f26041e480b26217f27342e175d0e070a3c5b103e2526217f27342e175d0e077e263451150104')\n",
    "print(xor(cipher, flag_prefix))\n",
    "flag = xor(cipher, b'myXORkey').decode()\n",
    "print(flag)"
   ]
  },
  {
   "cell_type": "code",
   "execution_count": null,
   "metadata": {
    "vscode": {
     "languageId": "python"
    }
   },
   "outputs": [],
   "source": [
    "def gcd(a, b):\n",
    "    return a if b == 0 else gcd(b, a % b)\n",
    "\n",
    "print(gcd(66528, 52920))"
   ]
  },
  {
   "cell_type": "code",
   "execution_count": null,
   "metadata": {
    "vscode": {
     "languageId": "python"
    }
   },
   "outputs": [],
   "source": [
    "def exgcd(a, b):\n",
    "    if b == 0:\n",
    "        return a, 1, 0\n",
    "    else:\n",
    "        g, x, y = exgcd(b, a % b)\n",
    "        return g, y, x - (a // b) * y\n",
    "\n",
    "print(exgcd(26513, 32321))\n"
   ]
  },
  {
   "cell_type": "code",
   "execution_count": null,
   "metadata": {
    "vscode": {
     "languageId": "python"
    }
   },
   "outputs": [],
   "source": [
    "x = 11 % 6\n",
    "y = 8146798528947 % 17\n",
    "print(x) if (x < y) else print(y)"
   ]
  },
  {
   "cell_type": "code",
   "execution_count": null,
   "metadata": {
    "vscode": {
     "languageId": "python"
    }
   },
   "outputs": [],
   "source": [
    "def inv_mod(a, p):\n",
    "    return exgcd(a, p)[1] % p\n",
    "\n",
    "print(inv_mod(3, 13))"
   ]
  },
  {
   "cell_type": "code",
   "execution_count": null,
   "metadata": {
    "vscode": {
     "languageId": "python"
    }
   },
   "outputs": [],
   "source": [
    "def is_quadratic_residue(i, p):\n",
    "    for a in range(p):\n",
    "        if (a * a % p == i):\n",
    "            return a, p - a\n",
    "    return None\n",
    "\n",
    "p = 29\n",
    "ints = [14, 6, 11]\n",
    "\n",
    "for i in ints:\n",
    "    res = is_quadratic_residue(i, p)\n",
    "    if res is not None:\n",
    "        print(f'The square root of {i} mod {p} is {res}')\n"
   ]
  }
 ],
 "metadata": {
  "kernelspec": {
   "display_name": "SageMath 10.4",
   "language": "sage",
   "name": "sagemath"
  },
  "language_info": {
   "codemirror_mode": {
    "name": "ipython",
    "version": 3
   },
   "file_extension": ".py",
   "mimetype": "text/x-python",
   "name": "sage",
   "nbconvert_exporter": "python",
   "pygments_lexer": "ipython3",
   "version": "3.11.10"
  }
 },
 "nbformat": 4,
 "nbformat_minor": 2
}
