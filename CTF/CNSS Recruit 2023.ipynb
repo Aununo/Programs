{
 "cells": [
  {
   "cell_type": "markdown",
   "metadata": {},
   "source": [
    "# 🔮cnss娘的谜语\n",
    "\n",
    "cnss娘信手写下几串意义不明的谜语，你可以猜出其中的含义吗？\n",
    "\n",
    "```py\n",
    "import base64\n",
    "from Crypto.Util.number import *\n",
    "from secret import flag  ## secret is a local file, flag is unknown to you. Try to find it.\n",
    "\n",
    "assert type(flag) == str\n",
    "\n",
    "flag = flag.encode()\n",
    "length = len(flag)\n",
    "assert length % 4 == 0\n",
    "L = length // 4\n",
    "\n",
    "secret1 = bytes_to_long(flag[:L])\n",
    "secret2 = flag[L:2*L].hex()\n",
    "secret3 = bin(int(flag[2*L:3*L].hex(), 16))\n",
    "secret4 = base64.b64encode(flag[3*L:])\n",
    "\n",
    "print(f\"{secret1 = }\")\n",
    "print(f\"{secret2 = }\")\n",
    "print(f\"{secret3 = }\")\n",
    "print(f\"{secret4 = }\")\n",
    "```\n",
    "\n",
    "------\n",
    "\n",
    "考查常见编码，把十进制、十六进制、二进制和base64分别转化为字节类型，拼凑起来，最后utf-8转成字符串就能还原出flag。"
   ]
  },
  {
   "cell_type": "code",
   "execution_count": 1,
   "metadata": {
    "vscode": {
     "languageId": "python"
    }
   },
   "outputs": [
    {
     "name": "stdout",
     "output_type": "stream",
     "text": [
      "cnss{学会编码是学 Crypto 的第一步。!}\n"
     ]
    }
   ],
   "source": [
    "import base64\n",
    "from Crypto.Util.number import *\n",
    "\n",
    "secret1 = 30772543014919602267414633191\n",
    "secret2 = 'bc96e7a081e698afe5ada620'\n",
    "secret3 = '0b10000110111001001111001011100000111010001101111001000001110011110011010100001001110011110101100'\n",
    "secret4 = b'rOS4gOatpeOAgiF9'\n",
    "\n",
    "flag1 = long_to_bytes(secret1)\n",
    "flag2 = bytes.fromhex(secret2)\n",
    "flag3 = long_to_bytes(int(secret3, 2))\n",
    "flag4 = base64.b64decode(secret4)\n",
    "\n",
    "flag = (flag1 + flag2 + flag3 + flag4).decode()\n",
    "print(flag)\n"
   ]
  },
  {
   "cell_type": "markdown",
   "metadata": {},
   "source": [
    "# 🐬水龙吟\n",
    "\n",
    "楚天千里清秋，水随天去秋无际。遥岑远目，献愁供恨，玉簪螺髻。\n",
    "\n",
    "```py\n",
    "from Crypto.Util.number import *\n",
    "from secret import flag\n",
    "\n",
    "m = bytes_to_long(flag)\n",
    "\n",
    "p = 4873905926740615531018463661385452170898784133203367799135441645830937750628221985822405430005703937197770247575076559744236744538228018031486049820173674\n",
    "g = 2593552830271406523114019117101950399687742243315195843514987700785182656087120211241524521448500935829478648514527037446437576680778419567396094750508622\n",
    "c = 0\n",
    "\n",
    "for i in range(m):\n",
    "    c = (c + g)  % p\n",
    " \n",
    "print(f'{c = }')\n",
    "```\n",
    "\n",
    "------\n",
    "\n",
    "求解[线性同余方程](https://oi-wiki.org/math/number-theory/linear-equation/)$c\\equiv m\\cdot g\\ {\\rm mod}\\ p$，考查[扩展欧几里得算法](https://oi-wiki.org/math/number-theory/gcd/)。"
   ]
  },
  {
   "cell_type": "code",
   "execution_count": 2,
   "metadata": {
    "vscode": {
     "languageId": "python"
    }
   },
   "outputs": [
    {
     "name": "stdout",
     "output_type": "stream",
     "text": [
      "cnss{Subgroup @nd Eucl1d algOrithm 1s eleg4nt.}\n"
     ]
    }
   ],
   "source": [
    "from Crypto.Util.number import *\n",
    "\n",
    "def Exgcd(a, b):\n",
    "    if b == 0:\n",
    "        return a, 1, 0\n",
    "    d, x, y = Exgcd(b, a % b)\n",
    "    return d, y, x - (a // b) * y\n",
    "\n",
    "def liEu(a, b, n):\n",
    "    d, x, y = Exgcd(a, n)\n",
    "    if b % d != 0:\n",
    "        return False\n",
    "    n = n // d\n",
    "    return ((x * b // d) % n + n) % n\n",
    "\n",
    "p = 4873905926740615531018463661385452170898784133203367799135441645830937750628221985822405430005703937197770247575076559744236744538228018031486049820173674\n",
    "g = 2593552830271406523114019117101950399687742243315195843514987700785182656087120211241524521448500935829478648514527037446437576680778419567396094750508622\n",
    "c = 3431276814099066030808269572939347769420622699894452016972504433264414095698239241816562301198442206498226641308404105790355301176892588988847042699636406\n",
    "\n",
    "m = liEu(g, c, p)\n",
    "flag = long_to_bytes(int(m)).decode()\n",
    "print(flag)\n"
   ]
  }
 ],
 "metadata": {
  "kernelspec": {
   "display_name": "SageMath 10.4",
   "language": "sage",
   "name": "sagemath"
  },
  "language_info": {
   "codemirror_mode": {
    "name": "ipython",
    "version": 3
   },
   "file_extension": ".py",
   "mimetype": "text/x-python",
   "name": "sage",
   "nbconvert_exporter": "python",
   "pygments_lexer": "ipython3",
   "version": "3.11.10"
  }
 },
 "nbformat": 4,
 "nbformat_minor": 2
}
