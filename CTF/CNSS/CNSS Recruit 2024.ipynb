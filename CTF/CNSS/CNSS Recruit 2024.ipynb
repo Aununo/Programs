{
 "cells": [
  {
   "cell_type": "markdown",
   "metadata": {},
   "source": [
    "# 😢雨霖铃\n",
    "\n",
    "此去经年，应是良辰好景虚设。便纵有千种风情，更与何人说？\n",
    "\n",
    "```py\n",
    "from Crypto.Util.number import *\n",
    "from os import getenv\n",
    "\n",
    "flag = getenv(\"FLAG\")\n",
    "\n",
    "\n",
    "def chal():\n",
    "    e = 65537\n",
    "    phi = e\n",
    "    while GCD(e, phi) != 1:\n",
    "        p = getPrime(512)\n",
    "        q = getPrime(512)\n",
    "        n = p * q\n",
    "        phi = (p - 1) * (q - 1)\n",
    "    d = pow(e, -1, phi)\n",
    "\n",
    "    print(f\"Alice -> Bob :The public key  {{'n':{hex(n)},'e':{hex(e)}}}\")\n",
    "\n",
    "    mess = b\"I l0ve you---Alice\"\n",
    "    m = bytes_to_long(mess)\n",
    "    print(f\"Bob -> Alice :The encrypted message {{'c':{hex(pow(m,e,n))}}}\")\n",
    "\n",
    "    print(\"You can change the message Bob sent to Alice to help them study\")\n",
    "    c = int(input(\"Please input the encrypted message (in hex)\"))\n",
    "    message = long_to_bytes(pow(c, d, n))\n",
    "\n",
    "    if message == b\"Please keep away from me, I had to study hard\":\n",
    "        print(flag)\n",
    "\n",
    "\n",
    "if __name__ == \"__main__\":\n",
    "    chal()\n",
    "    \n",
    "```\n",
    "\n",
    "交互题。\n",
    "\n",
    "```bash\n",
    "$ nc 152.136.11.155 10066\n",
    "Alice -> Bob :The public key  {'n':0xa755cc2e436c157b484d286c8390f099c66a2cde756745ef9adac125d503e3ab931540e32cc30b20a8a90fe7b1e6df42559443cbe0a5b1efd71aa48bd76b4481d11a245557c258f17f8aa6dc1ac9c4d41f59afeb02f4f2a9450ebd77b70ffa46c050c69343247a5a7b4ee52f93f8b063526f1f1b0ad22cd01a7292902e6c140d,'e':0x10001}\n",
    "Bob -> Alice :The encrypted message {'c':0x32100214ae295433c03645ecabd66e7ba4db47097e0426ef7f4616d17c87a4124768f7a4d7eec8c76e02ea77068ae1d581f99cb0f27981a87f65d56480c181dfcc2dbc4025abcab73bb0214104d7f2e6305ffe3d30661fffe0acfdecca06a18915238749544b2e11d279161521b2c0df0452f04f990118fc18f1046d6cae7a71}\n",
    "You can change the message Bob sent to Alice to help them study\n",
    "Please input the encrypted message (in hex)\n",
    "```\n",
    "hex编码。"
   ]
  },
  {
   "cell_type": "code",
   "execution_count": null,
   "metadata": {
    "vscode": {
     "languageId": "python"
    }
   },
   "outputs": [],
   "source": [
    "from Crypto.Util.number import *\n",
    "\n",
    "n = int('0xa755cc2e436c157b484d286c8390f099c66a2cde756745ef9adac125d503e3ab931540e32cc30b20a8a90fe7b1e6df42559443cbe0a5b1efd71aa48bd76b4481d11a245557c258f17f8aa6dc1ac9c4d41f59afeb02f4f2a9450ebd77b70ffa46c050c69343247a5a7b4ee52f93f8b063526f1f1b0ad22cd01a7292902e6c140d', 16)\n",
    "e = 65537\n",
    "\n",
    "msg = b\"Please keep away from me, I had to study hard\"\n",
    "m = bytes_to_long(msg)\n",
    "c = hex(pow(m, e, n))\n",
    "print(c)\n",
    "# cnss{journey to the crypto begin}\n"
   ]
  },
  {
   "cell_type": "markdown",
   "metadata": {},
   "source": [
    "# 😊快乐王子\n",
    "\n",
    "燕子亲吻了他的双唇，随即到在他脚边停止了呼吸。\n",
    "\n",
    "```py\n",
    "from Crypto.Util.number import *\n",
    "from secret import flag\n",
    "\n",
    "p = getPrime(1024)\n",
    "e = 0x10001\n",
    "m = bytes_to_long(flag)\n",
    "c = pow(m, e, p)\n",
    "print(f\"{c = }\")\n",
    "print(f\"{p = }\")\n",
    "print(f\"{e = }\")\n",
    "\n",
    "```\n",
    "\n",
    "单素数RSA。"
   ]
  },
  {
   "cell_type": "code",
   "execution_count": null,
   "metadata": {
    "vscode": {
     "languageId": "python"
    }
   },
   "outputs": [],
   "source": [
    "from Crypto.Util.number import *\n",
    "\n",
    "c = 94933879657019461326828225836780893807400776971235851915066913763683310991309173340557406241075423730347734496950200533575670368627940332981373490699790129749566410150515572724861054835984481560010703671000134856172771048226985683127931612726872883032424421652451138053080169329061035399029500996664744339122\n",
    "p = 95855494001984957858370499068727677198914989191424438110665096413160144326163172754989614826773164540454657124564339977787908884977761972381683644262327181870316948741995100389232827854834171961842471759416662384703036141181130961351694018591639607368956764660290603455362026824834672239118472771981866952759\n",
    "e = 65537\n",
    "\n",
    "d = inverse(e, p-1)\n",
    "m = pow(c, d, p)\n",
    "flag = long_to_bytes(int(m)).decode()\n",
    "print(flag)\n"
   ]
  },
  {
   "cell_type": "markdown",
   "metadata": {},
   "source": [
    "# 🦆滕王阁序\n",
    "\n",
    "时运不齐，命途多舛；冯唐易老，李广难封。屈贾谊于长沙，非无圣主；窜梁鸿于海曲，岂乏明时？所赖君子见机，达人知命。老当益壮，宁移白首之心？穷且益坚，不坠青云之志。\n",
    "\n",
    "\n",
    "```py\n",
    "from Crypto.Util.number import *\n",
    "from random import randint\n",
    "from hashlib import sha256\n",
    "\n",
    "N = 2**32\n",
    "\n",
    "a = randint(1, N)\n",
    "b = randint(1, N)\n",
    "seed = randint(1, N)\n",
    "\n",
    "\n",
    "def gen():\n",
    "    global seed\n",
    "    seed = (seed * a + b) % N\n",
    "    return seed\n",
    "\n",
    "\n",
    "n = 10\n",
    "lst = []\n",
    "for i in range(10):\n",
    "    lst.append(gen())\n",
    "\n",
    "print(lst[:3])\n",
    "flag = \"cnss{\" + sha256(str(lst).encode()).digest().hex() + \"}\"\n",
    "\n",
    "```\n",
    "\n",
    "线性同余的伪随机数生成器。已知$X_1、X_2$，且\n",
    "$$\n",
    "X_1=aX_0+b(mod\\ N)\\\\\n",
    "X_2=aX_1+b(mod\\ N)\\\\\n",
    "X_2-X_1=a(X_1-X_0)(mod\\ N)\n",
    "$$\n",
    "均在$Z_N^*$下。"
   ]
  },
  {
   "cell_type": "code",
   "execution_count": null,
   "metadata": {
    "vscode": {
     "languageId": "python"
    }
   },
   "outputs": [],
   "source": [
    "from Crypto.Util.number import *\n",
    "from hashlib import sha256\n",
    "\n",
    "N = 2**32\n",
    "X0, X1, X2 = 1191871952, 424959397, 2071728008\n",
    "a = (X2 - X1) * inverse(X1 - X0, N) % N\n",
    "b = (X1 - a * X0) % N\n",
    "X = X0\n",
    "\n",
    "def gen():\n",
    "    global X\n",
    "    X = (X * a + b) % N\n",
    "    return X\n",
    "\n",
    "n = 10\n",
    "lst = [X0]\n",
    "for i in range(1, n):\n",
    "    lst.append(gen())\n",
    "\n",
    "flag = \"cnss{\" + sha256(str(lst).encode()).digest().hex() + \"}\"\n",
    "print(flag)\n"
   ]
  },
  {
   "cell_type": "markdown",
   "metadata": {},
   "source": [
    "# 🐬詩超絆\n",
    "\n",
    "能陪我组一辈子乐队吗\n",
    "\n",
    "```py\n",
    "import os\n",
    "from Crypto.Cipher import AES\n",
    "from Crypto.Util.Padding import pad\n",
    "\n",
    "with open(\"flag.png\", \"rb\") as f:\n",
    "    flag_pic = f.read()\n",
    "\n",
    "key = os.urandom(16)\n",
    "cipher  = AES.new(key = key, mode = AES.MODE_OFB, iv = os.urandom(16))\n",
    "enc_pic = cipher.encrypt(pad(flag_pic, 16))\n",
    "\n",
    "with open(\"data.txt\", \"w\") as f:\n",
    "    f.write(f\"key = {key}\\n\")\n",
    "    f.write(f\"enc_pic = {enc_pic}\\n\")\n",
    "```\n",
    "\n",
    "Hint：\n",
    "\n",
    "- how the OFB work？"
   ]
  }
 ],
 "metadata": {
  "kernelspec": {
   "display_name": "SageMath 10.4",
   "language": "sage",
   "name": "sagemath"
  },
  "language_info": {
   "codemirror_mode": {
    "name": "ipython",
    "version": 3
   },
   "file_extension": ".py",
   "mimetype": "text/x-python",
   "name": "sage",
   "nbconvert_exporter": "python",
   "pygments_lexer": "ipython3",
   "version": "3.11.10"
  }
 },
 "nbformat": 4,
 "nbformat_minor": 2
}
